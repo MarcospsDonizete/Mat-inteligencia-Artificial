{
 "cells": [
  {
   "cell_type": "markdown",
   "id": "3804a199",
   "metadata": {},
   "source": [
    "## Importações"
   ]
  },
  {
   "cell_type": "code",
   "execution_count": 1,
   "id": "6419c261",
   "metadata": {},
   "outputs": [],
   "source": [
    "import pandas as pd\n",
    "import matplotlib.pyplot as plt \n",
    "import numpy as np \n",
    "from sklearn.linear_model import LinearRegression \n",
    "from sklearn.model_selection import train_test_split\n",
    "from sklearn.metrics import mean_squared_error"
   ]
  },
  {
   "cell_type": "code",
   "execution_count": 2,
   "id": "cedacc00",
   "metadata": {},
   "outputs": [
    {
     "data": {
      "text/html": [
       "<div>\n",
       "<style scoped>\n",
       "    .dataframe tbody tr th:only-of-type {\n",
       "        vertical-align: middle;\n",
       "    }\n",
       "\n",
       "    .dataframe tbody tr th {\n",
       "        vertical-align: top;\n",
       "    }\n",
       "\n",
       "    .dataframe thead th {\n",
       "        text-align: right;\n",
       "    }\n",
       "</style>\n",
       "<table border=\"1\" class=\"dataframe\">\n",
       "  <thead>\n",
       "    <tr style=\"text-align: right;\">\n",
       "      <th></th>\n",
       "      <th>houseSize</th>\n",
       "      <th>lotSize</th>\n",
       "      <th>bedrooms</th>\n",
       "      <th>granite</th>\n",
       "      <th>bathroom</th>\n",
       "      <th>sellingPrice</th>\n",
       "    </tr>\n",
       "  </thead>\n",
       "  <tbody>\n",
       "    <tr>\n",
       "      <th>0</th>\n",
       "      <td>3529</td>\n",
       "      <td>9191</td>\n",
       "      <td>6</td>\n",
       "      <td>0</td>\n",
       "      <td>0</td>\n",
       "      <td>205000</td>\n",
       "    </tr>\n",
       "    <tr>\n",
       "      <th>1</th>\n",
       "      <td>3247</td>\n",
       "      <td>10061</td>\n",
       "      <td>5</td>\n",
       "      <td>1</td>\n",
       "      <td>1</td>\n",
       "      <td>224900</td>\n",
       "    </tr>\n",
       "    <tr>\n",
       "      <th>2</th>\n",
       "      <td>4032</td>\n",
       "      <td>10150</td>\n",
       "      <td>5</td>\n",
       "      <td>0</td>\n",
       "      <td>1</td>\n",
       "      <td>197900</td>\n",
       "    </tr>\n",
       "    <tr>\n",
       "      <th>3</th>\n",
       "      <td>2397</td>\n",
       "      <td>14156</td>\n",
       "      <td>4</td>\n",
       "      <td>1</td>\n",
       "      <td>0</td>\n",
       "      <td>189900</td>\n",
       "    </tr>\n",
       "    <tr>\n",
       "      <th>4</th>\n",
       "      <td>2200</td>\n",
       "      <td>9600</td>\n",
       "      <td>4</td>\n",
       "      <td>0</td>\n",
       "      <td>1</td>\n",
       "      <td>195000</td>\n",
       "    </tr>\n",
       "  </tbody>\n",
       "</table>\n",
       "</div>"
      ],
      "text/plain": [
       "   houseSize  lotSize  bedrooms  granite  bathroom  sellingPrice\n",
       "0       3529     9191         6        0         0        205000\n",
       "1       3247    10061         5        1         1        224900\n",
       "2       4032    10150         5        0         1        197900\n",
       "3       2397    14156         4        1         0        189900\n",
       "4       2200     9600         4        0         1        195000"
      ]
     },
     "execution_count": 2,
     "metadata": {},
     "output_type": "execute_result"
    }
   ],
   "source": [
    "url = 'https://raw.githubusercontent.com/MarcospsDonizete/Mat-inteligencia-Artificial/main/data/house.csv'\n",
    "\n",
    "df = pd.read_csv(url, delimiter=';', error_bad_lines=False)\n",
    "df.head()"
   ]
  },
  {
   "cell_type": "code",
   "execution_count": 3,
   "id": "4a63c8de",
   "metadata": {},
   "outputs": [
    {
     "name": "stdout",
     "output_type": "stream",
     "text": [
      "X: \n",
      "    houseSize  lotSize  bedrooms  granite  bathroom\n",
      "0       3529     9191         6        0         0\n",
      "1       3247    10061         5        1         1\n",
      "2       4032    10150         5        0         1\n",
      "3       2397    14156         4        1         0\n",
      "4       2200     9600         4        0         1\n",
      "5       3536    19994         6        1         1\n",
      "6       2983     9365         5        0         1\n",
      "Y: \n",
      " 0    205000\n",
      "1    224900\n",
      "2    197900\n",
      "3    189900\n",
      "4    195000\n",
      "5    325000\n",
      "6    230000\n",
      "Name: sellingPrice, dtype: int64\n"
     ]
    }
   ],
   "source": [
    "y = 'sellingPrice' # Target value\n",
    "# Coluna que estamos tentando prever\n",
    "\n",
    "x = df.drop([y], axis=1) # Features\n",
    "# Excluindo a coluna de 'SellingPrice' das features\n",
    "\n",
    "y = df[y]\n",
    "\n",
    "print(\"X: \\n\", x)\n",
    "print(\"Y: \\n\", y)"
   ]
  },
  {
   "cell_type": "markdown",
   "id": "a6566c2b",
   "metadata": {},
   "source": [
    "### Separação treino e Teste"
   ]
  },
  {
   "cell_type": "code",
   "execution_count": 4,
   "id": "c1e56f41",
   "metadata": {},
   "outputs": [
    {
     "name": "stdout",
     "output_type": "stream",
     "text": [
      "(4, 5) (3, 5) (4,) (3,)\n"
     ]
    }
   ],
   "source": [
    "Xtrain, Xval, Ytrain, Yval = train_test_split(x, y, test_size=0.3, random_state=0)\n",
    "# Separando os dados em 70% para treino e 30% para teste\n",
    "\n",
    "print(Xtrain.shape, Xval.shape, Ytrain.shape, Yval.shape)\n",
    "# O vetorno vai ser de (linhas, colunas)\n",
    "# os dois últimos valores, que são de Y, ficam sem o número das colunas \n",
    "# porque eles têm zero dimensões, ou seja, apenas 1 coluna"
   ]
  },
  {
   "cell_type": "markdown",
   "id": "54712d45",
   "metadata": {},
   "source": [
    "### Criando modelo de Regreção linear"
   ]
  },
  {
   "cell_type": "code",
   "execution_count": 5,
   "id": "c55f21a0",
   "metadata": {},
   "outputs": [
    {
     "data": {
      "text/plain": [
       "LinearRegression()"
      ]
     },
     "execution_count": 5,
     "metadata": {},
     "output_type": "execute_result"
    }
   ],
   "source": [
    "model = LinearRegression() # Criação\n",
    "model.fit(Xtrain, Ytrain) # Treinando"
   ]
  },
  {
   "cell_type": "markdown",
   "id": "c4e20ead",
   "metadata": {},
   "source": [
    "## Cálculo do Coeficiente de Determinação R2.\n"
   ]
  },
  {
   "cell_type": "code",
   "execution_count": 6,
   "id": "12719d10",
   "metadata": {},
   "outputs": [
    {
     "name": "stdout",
     "output_type": "stream",
     "text": [
      "Coefficient of determination: 1.0\n"
     ]
    }
   ],
   "source": [
    "r_sq = model.score(Xtrain, Ytrain) \n",
    "\n",
    "print('Coefficient of determination:', r_sq)"
   ]
  },
  {
   "cell_type": "markdown",
   "id": "47b1c3dd",
   "metadata": {},
   "source": [
    "### Cálculo de MSE (Mean Squared Error)"
   ]
  },
  {
   "cell_type": "markdown",
   "id": "b627d9bf",
   "metadata": {},
   "source": [
    "Feito a mão"
   ]
  },
  {
   "cell_type": "code",
   "execution_count": 7,
   "id": "d6b2d333",
   "metadata": {},
   "outputs": [
    {
     "data": {
      "text/plain": [
       "1108340796.4604158"
      ]
     },
     "execution_count": 7,
     "metadata": {},
     "output_type": "execute_result"
    }
   ],
   "source": [
    "np.mean((model.predict(Xval)-Yval)**2)"
   ]
  },
  {
   "cell_type": "markdown",
   "id": "1e9a33f2",
   "metadata": {},
   "source": [
    "Feito pelas médias"
   ]
  },
  {
   "cell_type": "code",
   "execution_count": 8,
   "id": "4e6c7992",
   "metadata": {},
   "outputs": [
    {
     "data": {
      "text/plain": [
       "1108340796.4604158"
      ]
     },
     "execution_count": 8,
     "metadata": {},
     "output_type": "execute_result"
    }
   ],
   "source": [
    "mean_squared_error(Yval, model.predict(Xval)) # (valores reais, previsão)\n"
   ]
  },
  {
   "cell_type": "markdown",
   "id": "7154fd69",
   "metadata": {},
   "source": [
    "Admitindo a Equação da Regressão Linear:"
   ]
  },
  {
   "cell_type": "code",
   "execution_count": 9,
   "id": "0517f6f2",
   "metadata": {},
   "outputs": [
    {
     "name": "stdout",
     "output_type": "stream",
     "text": [
      "b0 ou intercept: -17986.476495571434\n",
      "b1 ou coeficiente (slope): [ 2.51367438e+01  9.24595053e+00  8.21656269e+03 -1.61182250e+04\n",
      "  3.60582642e+04]\n"
     ]
    }
   ],
   "source": [
    "print('b0 ou intercept:', model.intercept_) \n",
    "\n",
    "print('b1 ou coeficiente (slope):', model.coef_)"
   ]
  }
 ],
 "metadata": {
  "kernelspec": {
   "display_name": "Python 3",
   "language": "python",
   "name": "python3"
  },
  "language_info": {
   "codemirror_mode": {
    "name": "ipython",
    "version": 3
   },
   "file_extension": ".py",
   "mimetype": "text/x-python",
   "name": "python",
   "nbconvert_exporter": "python",
   "pygments_lexer": "ipython3",
   "version": "3.9.2"
  }
 },
 "nbformat": 4,
 "nbformat_minor": 5
}
